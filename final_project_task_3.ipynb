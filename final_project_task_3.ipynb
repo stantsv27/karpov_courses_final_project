{
 "cells": [
  {
   "cell_type": "code",
   "execution_count": 1,
   "metadata": {},
   "outputs": [],
   "source": [
    "import pandas as pd\n",
    "import matplotlib.pyplot as plt\n",
    "import seaborn as sns\n",
    "\n",
    "%matplotlib inline"
   ]
  },
  {
   "cell_type": "markdown",
   "metadata": {},
   "source": [
    "### Task:\n",
    "\n",
    "1. Create a function that will automatically load information from the additional file *groups_add.csv* and recalculate metrics based on additional parameters.\n",
    "\n",
    "2. Create a function that will display plots based on the metrics you got."
   ]
  },
  {
   "cell_type": "code",
   "execution_count": 2,
   "metadata": {},
   "outputs": [],
   "source": [
    "# Uploading data\n",
    "\n",
    "groups = pd.read_csv('data/groups.csv', sep=';')\n",
    "active_studs = pd.read_csv('data/active_studs.csv')\n",
    "checks = pd.read_csv('data/checks.csv', sep=';')"
   ]
  },
  {
   "cell_type": "markdown",
   "metadata": {},
   "source": [
    "#### Creating a function wich returns joined DataFrame and calculated metrics"
   ]
  },
  {
   "cell_type": "code",
   "execution_count": 3,
   "metadata": {},
   "outputs": [],
   "source": [
    "def get_metrics(groups, active, checks):\n",
    "    \n",
    "    ''' This function returns joined DataFrame and main metrics.\n",
    "    \n",
    "        Parameters\n",
    "        -------------\n",
    "        groups: Pandas DataFrame\n",
    "            DataFrame with data about users group\n",
    "            (2 columns - 'id' and 'grp')\n",
    "            \n",
    "        active: Pandas DataFrame\n",
    "            DataFrame with active users data\n",
    "            (1 column - 'student_id')\n",
    "            \n",
    "        checks: Pandas DataFrame\n",
    "            DataFrame with purchase data\n",
    "            (2 columns - 'student_id' and 'rev')\n",
    "            \n",
    "        Returns\n",
    "        -------------\n",
    "        users: Pandas DataFrame\n",
    "            \n",
    "            Joined DataFrame with the following columns:Объединенный датафрейм со следующими колонками:\n",
    "                \n",
    "                student_id - students ID\n",
    "                group - test group\n",
    "                rev - purchase revenue\n",
    "                has_payment - was payment or not (True/False)\n",
    "                \n",
    "        metrics: Pandas DataFrame\n",
    "            \n",
    "            Main metrics in each group:\n",
    "            \n",
    "                group - group name\n",
    "                number_of_students - number of students in each group\n",
    "                revenue - total revenue in each group\n",
    "                purchases - number of purchases\n",
    "                ARPU - average revenue per user\n",
    "                AOV - average order value\n",
    "                CR - conversion rate of an active student into a purchase\n",
    "                \n",
    "        '''\n",
    "    \n",
    "    # Rename columns to a single names\n",
    "    groups = groups.rename(columns={'id': 'student_id', 'grp': 'group'})\n",
    "    \n",
    "    # Put into variable 'users' DataFrame with active users groups\n",
    "    users = groups.merge(active_studs, on='student_id', how='inner')\n",
    "    \n",
    "    # Add purchase data to the 'users' DataFrame\n",
    "    users = users.merge(checks, on='student_id', how='left')\n",
    "    \n",
    "    # Add column 'has_payment' with boolean data was payment or not\n",
    "    users['has_payment'] = users.rev.apply(lambda x: x > 0)\n",
    "    \n",
    "    # Group data\n",
    "    metrics = users.groupby('group', as_index=False) \\\n",
    "        .agg({'student_id': 'count', 'rev': 'sum', 'has_payment': 'sum'}) \\\n",
    "        .rename(columns={'student_id': 'number_of_students', 'has_payment': 'purchases', 'rev': 'revenue'})\n",
    "    \n",
    "    # Calculate metrics\n",
    "    metrics['ARPU'] = metrics.revenue / metrics.number_of_students\n",
    "    metrics['AOV'] = metrics.revenue / metrics.purchases\n",
    "    metrics['CR'] = metrics.purchases / metrics.number_of_students\n",
    "    \n",
    "    return users, metrics"
   ]
  },
  {
   "cell_type": "code",
   "execution_count": 4,
   "metadata": {},
   "outputs": [
    {
     "data": {
      "text/html": [
       "<div>\n",
       "<style scoped>\n",
       "    .dataframe tbody tr th:only-of-type {\n",
       "        vertical-align: middle;\n",
       "    }\n",
       "\n",
       "    .dataframe tbody tr th {\n",
       "        vertical-align: top;\n",
       "    }\n",
       "\n",
       "    .dataframe thead th {\n",
       "        text-align: right;\n",
       "    }\n",
       "</style>\n",
       "<table border=\"1\" class=\"dataframe\">\n",
       "  <thead>\n",
       "    <tr style=\"text-align: right;\">\n",
       "      <th></th>\n",
       "      <th>group</th>\n",
       "      <th>number_of_students</th>\n",
       "      <th>revenue</th>\n",
       "      <th>purchases</th>\n",
       "      <th>ARPU</th>\n",
       "      <th>AOV</th>\n",
       "      <th>CR</th>\n",
       "    </tr>\n",
       "  </thead>\n",
       "  <tbody>\n",
       "    <tr>\n",
       "      <th>0</th>\n",
       "      <td>A</td>\n",
       "      <td>1535</td>\n",
       "      <td>72820.0000</td>\n",
       "      <td>78</td>\n",
       "      <td>47.439739</td>\n",
       "      <td>933.589744</td>\n",
       "      <td>0.050814</td>\n",
       "    </tr>\n",
       "    <tr>\n",
       "      <th>1</th>\n",
       "      <td>B</td>\n",
       "      <td>6793</td>\n",
       "      <td>393074.0035</td>\n",
       "      <td>313</td>\n",
       "      <td>57.864567</td>\n",
       "      <td>1255.827487</td>\n",
       "      <td>0.046077</td>\n",
       "    </tr>\n",
       "  </tbody>\n",
       "</table>\n",
       "</div>"
      ],
      "text/plain": [
       "  group  number_of_students      revenue  purchases       ARPU          AOV  \\\n",
       "0     A                1535   72820.0000         78  47.439739   933.589744   \n",
       "1     B                6793  393074.0035        313  57.864567  1255.827487   \n",
       "\n",
       "         CR  \n",
       "0  0.050814  \n",
       "1  0.046077  "
      ]
     },
     "execution_count": 4,
     "metadata": {},
     "output_type": "execute_result"
    }
   ],
   "source": [
    "df, metrics = get_metrics(groups, active_studs, checks)\n",
    "\n",
    "metrics"
   ]
  },
  {
   "cell_type": "code",
   "execution_count": 5,
   "metadata": {},
   "outputs": [],
   "source": [
    "# Uploading additional data\n",
    "\n",
    "groups_add = pd.read_csv('data/group_add.csv')"
   ]
  },
  {
   "cell_type": "markdown",
   "metadata": {},
   "source": [
    "#### Let's create a decorator wich wrap the *get_metrics* function and joins groups data befor it runs"
   ]
  },
  {
   "cell_type": "code",
   "execution_count": 6,
   "metadata": {},
   "outputs": [],
   "source": [
    "def add_groups(func):\n",
    "    \n",
    "    \n",
    "    def wrapper(groups_1, groups_2, active, checks):\n",
    "        \n",
    "        # Join groups data\n",
    "        groups_new = pd.concat([groups_1, groups_2]).reset_index(drop=True)\n",
    "        \n",
    "        return func(groups_new, active, checks)\n",
    "        \n",
    "    return wrapper"
   ]
  },
  {
   "cell_type": "code",
   "execution_count": 7,
   "metadata": {},
   "outputs": [],
   "source": [
    "# Put into variable 'recalculate_metrics' 'get_metrics' function wrapped with decorator 'add_groups'\n",
    "\n",
    "recalculate_metrics = add_groups(get_metrics)"
   ]
  },
  {
   "cell_type": "code",
   "execution_count": 8,
   "metadata": {},
   "outputs": [
    {
     "data": {
      "text/html": [
       "<div>\n",
       "<style scoped>\n",
       "    .dataframe tbody tr th:only-of-type {\n",
       "        vertical-align: middle;\n",
       "    }\n",
       "\n",
       "    .dataframe tbody tr th {\n",
       "        vertical-align: top;\n",
       "    }\n",
       "\n",
       "    .dataframe thead th {\n",
       "        text-align: right;\n",
       "    }\n",
       "</style>\n",
       "<table border=\"1\" class=\"dataframe\">\n",
       "  <thead>\n",
       "    <tr style=\"text-align: right;\">\n",
       "      <th></th>\n",
       "      <th>group</th>\n",
       "      <th>number_of_students</th>\n",
       "      <th>revenue</th>\n",
       "      <th>purchases</th>\n",
       "      <th>ARPU</th>\n",
       "      <th>AOV</th>\n",
       "      <th>CR</th>\n",
       "    </tr>\n",
       "  </thead>\n",
       "  <tbody>\n",
       "    <tr>\n",
       "      <th>0</th>\n",
       "      <td>A</td>\n",
       "      <td>1538</td>\n",
       "      <td>72820.0000</td>\n",
       "      <td>78</td>\n",
       "      <td>47.347204</td>\n",
       "      <td>933.589744</td>\n",
       "      <td>0.050715</td>\n",
       "    </tr>\n",
       "    <tr>\n",
       "      <th>1</th>\n",
       "      <td>B</td>\n",
       "      <td>6803</td>\n",
       "      <td>394974.0035</td>\n",
       "      <td>314</td>\n",
       "      <td>58.058798</td>\n",
       "      <td>1257.878992</td>\n",
       "      <td>0.046156</td>\n",
       "    </tr>\n",
       "  </tbody>\n",
       "</table>\n",
       "</div>"
      ],
      "text/plain": [
       "  group  number_of_students      revenue  purchases       ARPU          AOV  \\\n",
       "0     A                1538   72820.0000         78  47.347204   933.589744   \n",
       "1     B                6803  394974.0035        314  58.058798  1257.878992   \n",
       "\n",
       "         CR  \n",
       "0  0.050715  \n",
       "1  0.046156  "
      ]
     },
     "execution_count": 8,
     "metadata": {},
     "output_type": "execute_result"
    }
   ],
   "source": [
    "# Recalculate metrics and final DataFrame\n",
    "\n",
    "df, metrics = recalculate_metrics(groups_add, groups, active_studs, checks)\n",
    "\n",
    "metrics"
   ]
  },
  {
   "cell_type": "markdown",
   "metadata": {},
   "source": [
    "#### Let's create function wich drows plots of metrics we've calculated"
   ]
  },
  {
   "cell_type": "code",
   "execution_count": 9,
   "metadata": {},
   "outputs": [],
   "source": [
    "def drow_plots(df, metrics, mean=False, median=False):\n",
    "    '''\n",
    "    This function drows 4 plots:\n",
    "        \n",
    "        Comparison of conversions in groups A and B  (plt.barplot)\n",
    "        Comparison of ARPU in groups A and B         (plt.barplot)\n",
    "        AOV distribution in group A                  (plt.hist)\n",
    "        AOV distribution in group B                  (plt.hist)\n",
    "        \n",
    "    Parameters\n",
    "    ------------\n",
    "    df: Pandas DataFrame\n",
    "        DataFrame with columns 'rev' and 'group'\n",
    "        \n",
    "    metrics: Pandas DataFrame\n",
    "        Final DataFrame with calculated metrics.\n",
    "        Required columns: 'group', 'CR', 'ARPU'\n",
    "        \n",
    "    mean: bool, optional\n",
    "        If 'True' then there will be a vertical mean line on AOV distribution plots\n",
    "    \n",
    "    median: bool, optional\n",
    "        If 'True' then there will be a vertical median line on AOV distribution plots\n",
    "        \n",
    "       \n",
    "    '''\n",
    "    \n",
    "    # Set main parameters for seaborn\n",
    "    sns.set(\n",
    "        style='darkgrid',\n",
    "        palette='viridis',\n",
    "        rc={'figure.figsize': (18, 10)}\n",
    "    )\n",
    "    \n",
    "    # Divide output on 4 plots    \n",
    "    # Drow comparison of conversions in groups A and B\n",
    "    plt.subplot(2, 2, 1)\n",
    "    plt.title('Comparison of conversions in groups A and B', fontsize=16)\n",
    "    sns.barplot(x='group', y='CR', data=metrics)\n",
    "    plt.xlabel(None)\n",
    "    plt.ylabel(None)\n",
    "   \n",
    "    # Drow comparison of ARPU in groups A and B\n",
    "    plt.subplot(2, 2, 2)\n",
    "    plt.title('Comparison of ARPU in groups A and B', fontsize=16)\n",
    "    sns.barplot(x='group', y='ARPU', data=metrics)\n",
    "    plt.xlabel(None)\n",
    "    plt.ylabel(None)\n",
    "    \n",
    "    # Drow AOV distribution in group A  \n",
    "    # The plot and title\n",
    "    plt.subplot(2, 2, 3)\n",
    "    plt.title('AOV distribution  in group A', fontsize=16)\n",
    "    plt.hist(df[df.group == 'A'].rev, bins=16, color='#483c71')\n",
    "    \n",
    "    # If parameter mean=True - drow mean line and title\n",
    "    if mean:\n",
    "        plt.vlines(x=df[df.group == 'A'].rev.mean(), \n",
    "                   ymin=0, ymax=max(plt.yticks()[0]) * 0.95, \n",
    "                   linestyles='--', color='#116ab8')\n",
    "        plt.text(x=df[df.group == 'A'].rev.mean() * 1.02,\n",
    "                 y=max(plt.yticks()[0]) * 0.9,\n",
    "                 s='Mean: ' + str(int(df[df.group == 'A'].rev.mean())), color='#116ab8')\n",
    "    \n",
    "    # If parameter median=True - drow median line and title\n",
    "    if median:\n",
    "        plt.vlines(x=df[df.group == 'A'].rev.median(), \n",
    "                   ymin=0, ymax=max(plt.yticks()[0]) * 0.95, \n",
    "                   linestyles='--', color='#b24434')\n",
    "        plt.text(x=df[df.group == 'A'].rev.median() * 1.02,\n",
    "                 y=max(plt.yticks()[0]) * 0.84,\n",
    "                 s='Median: ' + str(int(df[df.group == 'A'].rev.median())), color='#b24434')\n",
    "        \n",
    "    # Drow AOV distribution in group B  \n",
    "    # The plot and title\n",
    "    plt.subplot(2, 2, 4)\n",
    "    plt.title('AOV distribution in group B', fontsize=16)\n",
    "    plt.hist(df[df.group == 'B'].rev, bins=16, color='#475c7f')\n",
    "    \n",
    "    # If parameter mean=True - drow mean line and title\n",
    "    if mean:\n",
    "        plt.vlines(x=df[df.group == 'B'].rev.mean(), \n",
    "                   ymin=0, ymax=max(plt.yticks()[0]) * 0.95, \n",
    "                   linestyles='--', color='#116ab8')\n",
    "        plt.text(x=df[df.group == 'B'].rev.mean() * 1.02,\n",
    "                 y=max(plt.yticks()[0]) * 0.9,\n",
    "                 s='Mean: ' + str(int(df[df.group == 'B'].rev.mean())), color='#116ab8')\n",
    "    \n",
    "    # If parameter median=True - drow median line and title\n",
    "    if median:\n",
    "        plt.vlines(x=df[df.group == 'B'].rev.median(), \n",
    "                   ymin=0, ymax=max(plt.yticks()[0]) * 0.95, \n",
    "                   linestyles='--', color='#b24434')\n",
    "        plt.text(x=df[df.group == 'B'].rev.median() * 1.02,\n",
    "                 y=max(plt.yticks()[0]) * 0.84,\n",
    "                 s='Median: ' + str(int(df[df.group == 'B'].rev.median())), color='#b24434')\n",
    "\n",
    "    sns.despine()\n",
    "    \n",
    "    plt.show()"
   ]
  },
  {
   "cell_type": "code",
   "execution_count": 10,
   "metadata": {},
   "outputs": [
    {
     "data": {
      "image/png": "[encoded data removed]",
      "text/plain": [
       "<Figure size 1296x720 with 4 Axes>"
      ]
     },
     "metadata": {},
     "output_type": "display_data"
    }
   ],
   "source": [
    "drow_plots(df, metrics, mean=True, median=True)"
   ]
  },
  {
   "cell_type": "code",
   "execution_count": null,
   "metadata": {},
   "outputs": [],
   "source": []
  }
 ],
 "metadata": {
  "kernelspec": {
   "display_name": "Python 3 (ipykernel)",
   "language": "python",
   "name": "python3"
  },
  "language_info": {
   "codemirror_mode": {
    "name": "ipython",
    "version": 3
   },
   "file_extension": ".py",
   "mimetype": "text/x-python",
   "name": "python",
   "nbconvert_exporter": "python",
   "pygments_lexer": "ipython3",
   "version": "3.9.10"
  }
 },
 "nbformat": 4,
 "nbformat_minor": 4
}
